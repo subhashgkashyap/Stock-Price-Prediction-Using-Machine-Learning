{
 "cells": [
  {
   "cell_type": "markdown",
   "id": "28833b65",
   "metadata": {},
   "source": [
    "# Stock Price Prediction Using Machine Learning"
   ]
  },
  {
   "cell_type": "markdown",
   "id": "b892ad24",
   "metadata": {},
   "source": [
    "## Import Libraries and Dataset"
   ]
  },
  {
   "cell_type": "code",
   "execution_count": 1,
   "id": "52543778",
   "metadata": {},
   "outputs": [],
   "source": [
    "import numpy as np\n",
    "import pandas as pd\n",
    "import matplotlib.pyplot as plt\n",
    "import seaborn as sns\n",
    "from sklearn.model_selection import train_test_split\n",
    "from sklearn.metrics import r2_score\n",
    "import warnings\n",
    "warnings.filterwarnings('ignore')\n",
    "sns.set_style('darkgrid')"
   ]
  },
  {
   "cell_type": "code",
   "execution_count": 2,
   "id": "2ad6322d",
   "metadata": {},
   "outputs": [],
   "source": [
    "dataset = pd.read_csv('ICICI_BANK.csv')"
   ]
  },
  {
   "cell_type": "markdown",
   "id": "cc347d29",
   "metadata": {},
   "source": [
    "## Information about the dataset"
   ]
  },
  {
   "cell_type": "code",
   "execution_count": 3,
   "id": "e6ce908b",
   "metadata": {},
   "outputs": [
    {
     "data": {
      "text/plain": [
       "(5306, 15)"
      ]
     },
     "execution_count": 3,
     "metadata": {},
     "output_type": "execute_result"
    }
   ],
   "source": [
    "dataset.shape"
   ]
  },
  {
   "cell_type": "code",
   "execution_count": 4,
   "id": "10700492",
   "metadata": {},
   "outputs": [
    {
     "data": {
      "text/plain": [
       "Index(['Date', 'Symbol', 'Series', 'Prev Close', 'Open', 'High', 'Low', 'Last',\n",
       "       'Close', 'VWAP', 'Volume', 'Turnover', 'Trades', 'Deliverable Volume',\n",
       "       '%Deliverble'],\n",
       "      dtype='object')"
      ]
     },
     "execution_count": 4,
     "metadata": {},
     "output_type": "execute_result"
    }
   ],
   "source": [
    "dataset.columns"
   ]
  },
  {
   "cell_type": "code",
   "execution_count": 5,
   "id": "52e69b9b",
   "metadata": {},
   "outputs": [
    {
     "name": "stdout",
     "output_type": "stream",
     "text": [
      "<class 'pandas.core.frame.DataFrame'>\n",
      "RangeIndex: 5306 entries, 0 to 5305\n",
      "Data columns (total 15 columns):\n",
      " #   Column              Non-Null Count  Dtype  \n",
      "---  ------              --------------  -----  \n",
      " 0   Date                5306 non-null   object \n",
      " 1   Symbol              5306 non-null   object \n",
      " 2   Series              5306 non-null   object \n",
      " 3   Prev Close          5306 non-null   float64\n",
      " 4   Open                5306 non-null   float64\n",
      " 5   High                5306 non-null   float64\n",
      " 6   Low                 5306 non-null   float64\n",
      " 7   Last                5306 non-null   float64\n",
      " 8   Close               5306 non-null   float64\n",
      " 9   VWAP                5306 non-null   float64\n",
      " 10  Volume              5306 non-null   int64  \n",
      " 11  Turnover            5306 non-null   float64\n",
      " 12  Trades              2456 non-null   float64\n",
      " 13  Deliverable Volume  4789 non-null   float64\n",
      " 14  %Deliverble         4789 non-null   float64\n",
      "dtypes: float64(11), int64(1), object(3)\n",
      "memory usage: 621.9+ KB\n"
     ]
    }
   ],
   "source": [
    "dataset.info()"
   ]
  },
  {
   "cell_type": "code",
   "execution_count": 6,
   "id": "f3c0c0b0",
   "metadata": {},
   "outputs": [
    {
     "data": {
      "text/html": [
       "<div>\n",
       "<style scoped>\n",
       "    .dataframe tbody tr th:only-of-type {\n",
       "        vertical-align: middle;\n",
       "    }\n",
       "\n",
       "    .dataframe tbody tr th {\n",
       "        vertical-align: top;\n",
       "    }\n",
       "\n",
       "    .dataframe thead th {\n",
       "        text-align: right;\n",
       "    }\n",
       "</style>\n",
       "<table border=\"1\" class=\"dataframe\">\n",
       "  <thead>\n",
       "    <tr style=\"text-align: right;\">\n",
       "      <th></th>\n",
       "      <th>Prev Close</th>\n",
       "      <th>Open</th>\n",
       "      <th>High</th>\n",
       "      <th>Low</th>\n",
       "      <th>Last</th>\n",
       "      <th>Close</th>\n",
       "      <th>VWAP</th>\n",
       "      <th>Volume</th>\n",
       "      <th>Turnover</th>\n",
       "      <th>Trades</th>\n",
       "      <th>Deliverable Volume</th>\n",
       "      <th>%Deliverble</th>\n",
       "    </tr>\n",
       "  </thead>\n",
       "  <tbody>\n",
       "    <tr>\n",
       "      <th>count</th>\n",
       "      <td>5306.000000</td>\n",
       "      <td>5306.000000</td>\n",
       "      <td>5306.000000</td>\n",
       "      <td>5306.000000</td>\n",
       "      <td>5306.000000</td>\n",
       "      <td>5306.000000</td>\n",
       "      <td>5306.000000</td>\n",
       "      <td>5.306000e+03</td>\n",
       "      <td>5.306000e+03</td>\n",
       "      <td>2456.000000</td>\n",
       "      <td>4.789000e+03</td>\n",
       "      <td>4789.000000</td>\n",
       "    </tr>\n",
       "    <tr>\n",
       "      <th>mean</th>\n",
       "      <td>550.895392</td>\n",
       "      <td>551.558538</td>\n",
       "      <td>560.558556</td>\n",
       "      <td>541.534197</td>\n",
       "      <td>551.050980</td>\n",
       "      <td>550.995524</td>\n",
       "      <td>551.129031</td>\n",
       "      <td>8.224631e+06</td>\n",
       "      <td>3.759336e+14</td>\n",
       "      <td>138367.627443</td>\n",
       "      <td>4.183406e+06</td>\n",
       "      <td>0.473463</td>\n",
       "    </tr>\n",
       "    <tr>\n",
       "      <th>std</th>\n",
       "      <td>368.784064</td>\n",
       "      <td>368.890953</td>\n",
       "      <td>374.079697</td>\n",
       "      <td>363.389664</td>\n",
       "      <td>368.705647</td>\n",
       "      <td>368.725374</td>\n",
       "      <td>368.746905</td>\n",
       "      <td>1.218535e+07</td>\n",
       "      <td>4.759238e+14</td>\n",
       "      <td>99008.729009</td>\n",
       "      <td>6.365382e+06</td>\n",
       "      <td>0.131495</td>\n",
       "    </tr>\n",
       "    <tr>\n",
       "      <th>min</th>\n",
       "      <td>67.400000</td>\n",
       "      <td>67.000000</td>\n",
       "      <td>70.450000</td>\n",
       "      <td>66.000000</td>\n",
       "      <td>67.000000</td>\n",
       "      <td>67.400000</td>\n",
       "      <td>68.520000</td>\n",
       "      <td>7.409000e+03</td>\n",
       "      <td>9.617283e+10</td>\n",
       "      <td>2595.000000</td>\n",
       "      <td>1.501500e+04</td>\n",
       "      <td>0.099000</td>\n",
       "    </tr>\n",
       "    <tr>\n",
       "      <th>25%</th>\n",
       "      <td>267.562500</td>\n",
       "      <td>267.400000</td>\n",
       "      <td>271.912500</td>\n",
       "      <td>263.625000</td>\n",
       "      <td>267.400000</td>\n",
       "      <td>267.612500</td>\n",
       "      <td>267.577500</td>\n",
       "      <td>9.612055e+05</td>\n",
       "      <td>3.459444e+13</td>\n",
       "      <td>79312.250000</td>\n",
       "      <td>6.995020e+05</td>\n",
       "      <td>0.384300</td>\n",
       "    </tr>\n",
       "    <tr>\n",
       "      <th>50%</th>\n",
       "      <td>398.075000</td>\n",
       "      <td>399.000000</td>\n",
       "      <td>406.525000</td>\n",
       "      <td>392.450000</td>\n",
       "      <td>398.700000</td>\n",
       "      <td>398.175000</td>\n",
       "      <td>398.235000</td>\n",
       "      <td>3.486648e+06</td>\n",
       "      <td>2.923010e+14</td>\n",
       "      <td>110101.000000</td>\n",
       "      <td>1.963117e+06</td>\n",
       "      <td>0.476400</td>\n",
       "    </tr>\n",
       "    <tr>\n",
       "      <th>75%</th>\n",
       "      <td>873.562500</td>\n",
       "      <td>877.000000</td>\n",
       "      <td>888.775000</td>\n",
       "      <td>859.800000</td>\n",
       "      <td>874.600000</td>\n",
       "      <td>873.562500</td>\n",
       "      <td>873.510000</td>\n",
       "      <td>1.157202e+07</td>\n",
       "      <td>4.993528e+14</td>\n",
       "      <td>162953.500000</td>\n",
       "      <td>5.948817e+06</td>\n",
       "      <td>0.564100</td>\n",
       "    </tr>\n",
       "    <tr>\n",
       "      <th>max</th>\n",
       "      <td>1794.100000</td>\n",
       "      <td>1767.050000</td>\n",
       "      <td>1798.150000</td>\n",
       "      <td>1760.150000</td>\n",
       "      <td>1793.000000</td>\n",
       "      <td>1794.100000</td>\n",
       "      <td>1783.460000</td>\n",
       "      <td>2.868577e+08</td>\n",
       "      <td>1.461959e+16</td>\n",
       "      <td>949891.000000</td>\n",
       "      <td>2.325307e+08</td>\n",
       "      <td>0.983000</td>\n",
       "    </tr>\n",
       "  </tbody>\n",
       "</table>\n",
       "</div>"
      ],
      "text/plain": [
       "        Prev Close         Open         High          Low         Last  \\\n",
       "count  5306.000000  5306.000000  5306.000000  5306.000000  5306.000000   \n",
       "mean    550.895392   551.558538   560.558556   541.534197   551.050980   \n",
       "std     368.784064   368.890953   374.079697   363.389664   368.705647   \n",
       "min      67.400000    67.000000    70.450000    66.000000    67.000000   \n",
       "25%     267.562500   267.400000   271.912500   263.625000   267.400000   \n",
       "50%     398.075000   399.000000   406.525000   392.450000   398.700000   \n",
       "75%     873.562500   877.000000   888.775000   859.800000   874.600000   \n",
       "max    1794.100000  1767.050000  1798.150000  1760.150000  1793.000000   \n",
       "\n",
       "             Close         VWAP        Volume      Turnover         Trades  \\\n",
       "count  5306.000000  5306.000000  5.306000e+03  5.306000e+03    2456.000000   \n",
       "mean    550.995524   551.129031  8.224631e+06  3.759336e+14  138367.627443   \n",
       "std     368.725374   368.746905  1.218535e+07  4.759238e+14   99008.729009   \n",
       "min      67.400000    68.520000  7.409000e+03  9.617283e+10    2595.000000   \n",
       "25%     267.612500   267.577500  9.612055e+05  3.459444e+13   79312.250000   \n",
       "50%     398.175000   398.235000  3.486648e+06  2.923010e+14  110101.000000   \n",
       "75%     873.562500   873.510000  1.157202e+07  4.993528e+14  162953.500000   \n",
       "max    1794.100000  1783.460000  2.868577e+08  1.461959e+16  949891.000000   \n",
       "\n",
       "       Deliverable Volume  %Deliverble  \n",
       "count        4.789000e+03  4789.000000  \n",
       "mean         4.183406e+06     0.473463  \n",
       "std          6.365382e+06     0.131495  \n",
       "min          1.501500e+04     0.099000  \n",
       "25%          6.995020e+05     0.384300  \n",
       "50%          1.963117e+06     0.476400  \n",
       "75%          5.948817e+06     0.564100  \n",
       "max          2.325307e+08     0.983000  "
      ]
     },
     "execution_count": 6,
     "metadata": {},
     "output_type": "execute_result"
    }
   ],
   "source": [
    "dataset.describe()"
   ]
  },
  {
   "cell_type": "markdown",
   "id": "09d9f8a6",
   "metadata": {},
   "source": [
    "## Data Cleaning"
   ]
  },
  {
   "cell_type": "code",
   "execution_count": 7,
   "id": "9060ad07",
   "metadata": {
    "scrolled": false
   },
   "outputs": [
    {
     "data": {
      "text/html": [
       "<style type=\"text/css\">\n",
       "</style>\n",
       "<table id=\"T_20e9d_\">\n",
       "  <thead>\n",
       "    <tr>\n",
       "      <th class=\"col_heading level0 col0\" >Date</th>\n",
       "      <th class=\"col_heading level0 col1\" >Symbol</th>\n",
       "      <th class=\"col_heading level0 col2\" >Series</th>\n",
       "      <th class=\"col_heading level0 col3\" >Prev Close</th>\n",
       "      <th class=\"col_heading level0 col4\" >Open</th>\n",
       "      <th class=\"col_heading level0 col5\" >High</th>\n",
       "      <th class=\"col_heading level0 col6\" >Low</th>\n",
       "      <th class=\"col_heading level0 col7\" >Last</th>\n",
       "      <th class=\"col_heading level0 col8\" >Close</th>\n",
       "      <th class=\"col_heading level0 col9\" >VWAP</th>\n",
       "      <th class=\"col_heading level0 col10\" >Volume</th>\n",
       "      <th class=\"col_heading level0 col11\" >Turnover</th>\n",
       "      <th class=\"col_heading level0 col12\" >Trades</th>\n",
       "      <th class=\"col_heading level0 col13\" >Deliverable Volume</th>\n",
       "      <th class=\"col_heading level0 col14\" >%Deliverble</th>\n",
       "    </tr>\n",
       "  </thead>\n",
       "  <tbody>\n",
       "    <tr>\n",
       "      <td id=\"T_20e9d_row0_col0\" class=\"data row0 col0\" >2000-01-03</td>\n",
       "      <td id=\"T_20e9d_row0_col1\" class=\"data row0 col1\" >ICICIBANK</td>\n",
       "      <td id=\"T_20e9d_row0_col2\" class=\"data row0 col2\" >EQ</td>\n",
       "      <td id=\"T_20e9d_row0_col3\" class=\"data row0 col3\" >69.200000</td>\n",
       "      <td id=\"T_20e9d_row0_col4\" class=\"data row0 col4\" >74.350000</td>\n",
       "      <td id=\"T_20e9d_row0_col5\" class=\"data row0 col5\" >74.750000</td>\n",
       "      <td id=\"T_20e9d_row0_col6\" class=\"data row0 col6\" >71.400000</td>\n",
       "      <td id=\"T_20e9d_row0_col7\" class=\"data row0 col7\" >74.750000</td>\n",
       "      <td id=\"T_20e9d_row0_col8\" class=\"data row0 col8\" >74.750000</td>\n",
       "      <td id=\"T_20e9d_row0_col9\" class=\"data row0 col9\" >73.200000</td>\n",
       "      <td id=\"T_20e9d_row0_col10\" class=\"data row0 col10\" >286260</td>\n",
       "      <td id=\"T_20e9d_row0_col11\" class=\"data row0 col11\" >2095439040000.000000</td>\n",
       "      <td id=\"T_20e9d_row0_col12\" class=\"data row0 col12\" >nan</td>\n",
       "      <td id=\"T_20e9d_row0_col13\" class=\"data row0 col13\" >nan</td>\n",
       "      <td id=\"T_20e9d_row0_col14\" class=\"data row0 col14\" >nan</td>\n",
       "    </tr>\n",
       "    <tr>\n",
       "      <td id=\"T_20e9d_row1_col0\" class=\"data row1 col0\" >2000-01-04</td>\n",
       "      <td id=\"T_20e9d_row1_col1\" class=\"data row1 col1\" >ICICIBANK</td>\n",
       "      <td id=\"T_20e9d_row1_col2\" class=\"data row1 col2\" >EQ</td>\n",
       "      <td id=\"T_20e9d_row1_col3\" class=\"data row1 col3\" >74.750000</td>\n",
       "      <td id=\"T_20e9d_row1_col4\" class=\"data row1 col4\" >73.050000</td>\n",
       "      <td id=\"T_20e9d_row1_col5\" class=\"data row1 col5\" >78.500000</td>\n",
       "      <td id=\"T_20e9d_row1_col6\" class=\"data row1 col6\" >71.000000</td>\n",
       "      <td id=\"T_20e9d_row1_col7\" class=\"data row1 col7\" >73.250000</td>\n",
       "      <td id=\"T_20e9d_row1_col8\" class=\"data row1 col8\" >73.050000</td>\n",
       "      <td id=\"T_20e9d_row1_col9\" class=\"data row1 col9\" >73.380000</td>\n",
       "      <td id=\"T_20e9d_row1_col10\" class=\"data row1 col10\" >296264</td>\n",
       "      <td id=\"T_20e9d_row1_col11\" class=\"data row1 col11\" >2173892790000.000000</td>\n",
       "      <td id=\"T_20e9d_row1_col12\" class=\"data row1 col12\" >nan</td>\n",
       "      <td id=\"T_20e9d_row1_col13\" class=\"data row1 col13\" >nan</td>\n",
       "      <td id=\"T_20e9d_row1_col14\" class=\"data row1 col14\" >nan</td>\n",
       "    </tr>\n",
       "    <tr>\n",
       "      <td id=\"T_20e9d_row2_col0\" class=\"data row2 col0\" >2000-01-05</td>\n",
       "      <td id=\"T_20e9d_row2_col1\" class=\"data row2 col1\" >ICICIBANK</td>\n",
       "      <td id=\"T_20e9d_row2_col2\" class=\"data row2 col2\" >EQ</td>\n",
       "      <td id=\"T_20e9d_row2_col3\" class=\"data row2 col3\" >73.050000</td>\n",
       "      <td id=\"T_20e9d_row2_col4\" class=\"data row2 col4\" >70.000000</td>\n",
       "      <td id=\"T_20e9d_row2_col5\" class=\"data row2 col5\" >73.500000</td>\n",
       "      <td id=\"T_20e9d_row2_col6\" class=\"data row2 col6\" >67.500000</td>\n",
       "      <td id=\"T_20e9d_row2_col7\" class=\"data row2 col7\" >70.000000</td>\n",
       "      <td id=\"T_20e9d_row2_col8\" class=\"data row2 col8\" >69.500000</td>\n",
       "      <td id=\"T_20e9d_row2_col9\" class=\"data row2 col9\" >70.850000</td>\n",
       "      <td id=\"T_20e9d_row2_col10\" class=\"data row2 col10\" >227624</td>\n",
       "      <td id=\"T_20e9d_row2_col11\" class=\"data row2 col11\" >1612793995000.000000</td>\n",
       "      <td id=\"T_20e9d_row2_col12\" class=\"data row2 col12\" >nan</td>\n",
       "      <td id=\"T_20e9d_row2_col13\" class=\"data row2 col13\" >nan</td>\n",
       "      <td id=\"T_20e9d_row2_col14\" class=\"data row2 col14\" >nan</td>\n",
       "    </tr>\n",
       "    <tr>\n",
       "      <td id=\"T_20e9d_row3_col0\" class=\"data row3 col0\" >2000-01-06</td>\n",
       "      <td id=\"T_20e9d_row3_col1\" class=\"data row3 col1\" >ICICIBANK</td>\n",
       "      <td id=\"T_20e9d_row3_col2\" class=\"data row3 col2\" >EQ</td>\n",
       "      <td id=\"T_20e9d_row3_col3\" class=\"data row3 col3\" >69.500000</td>\n",
       "      <td id=\"T_20e9d_row3_col4\" class=\"data row3 col4\" >71.000000</td>\n",
       "      <td id=\"T_20e9d_row3_col5\" class=\"data row3 col5\" >74.000000</td>\n",
       "      <td id=\"T_20e9d_row3_col6\" class=\"data row3 col6\" >69.550000</td>\n",
       "      <td id=\"T_20e9d_row3_col7\" class=\"data row3 col7\" >69.750000</td>\n",
       "      <td id=\"T_20e9d_row3_col8\" class=\"data row3 col8\" >70.050000</td>\n",
       "      <td id=\"T_20e9d_row3_col9\" class=\"data row3 col9\" >72.040000</td>\n",
       "      <td id=\"T_20e9d_row3_col10\" class=\"data row3 col10\" >275149</td>\n",
       "      <td id=\"T_20e9d_row3_col11\" class=\"data row3 col11\" >1982120640000.000000</td>\n",
       "      <td id=\"T_20e9d_row3_col12\" class=\"data row3 col12\" >nan</td>\n",
       "      <td id=\"T_20e9d_row3_col13\" class=\"data row3 col13\" >nan</td>\n",
       "      <td id=\"T_20e9d_row3_col14\" class=\"data row3 col14\" >nan</td>\n",
       "    </tr>\n",
       "    <tr>\n",
       "      <td id=\"T_20e9d_row4_col0\" class=\"data row4 col0\" >2000-01-07</td>\n",
       "      <td id=\"T_20e9d_row4_col1\" class=\"data row4 col1\" >ICICIBANK</td>\n",
       "      <td id=\"T_20e9d_row4_col2\" class=\"data row4 col2\" >EQ</td>\n",
       "      <td id=\"T_20e9d_row4_col3\" class=\"data row4 col3\" >70.050000</td>\n",
       "      <td id=\"T_20e9d_row4_col4\" class=\"data row4 col4\" >69.000000</td>\n",
       "      <td id=\"T_20e9d_row4_col5\" class=\"data row4 col5\" >72.500000</td>\n",
       "      <td id=\"T_20e9d_row4_col6\" class=\"data row4 col6\" >66.000000</td>\n",
       "      <td id=\"T_20e9d_row4_col7\" class=\"data row4 col7\" >67.000000</td>\n",
       "      <td id=\"T_20e9d_row4_col8\" class=\"data row4 col8\" >67.400000</td>\n",
       "      <td id=\"T_20e9d_row4_col9\" class=\"data row4 col9\" >68.720000</td>\n",
       "      <td id=\"T_20e9d_row4_col10\" class=\"data row4 col10\" >138809</td>\n",
       "      <td id=\"T_20e9d_row4_col11\" class=\"data row4 col11\" >953888205000.000000</td>\n",
       "      <td id=\"T_20e9d_row4_col12\" class=\"data row4 col12\" >nan</td>\n",
       "      <td id=\"T_20e9d_row4_col13\" class=\"data row4 col13\" >nan</td>\n",
       "      <td id=\"T_20e9d_row4_col14\" class=\"data row4 col14\" >nan</td>\n",
       "    </tr>\n",
       "  </tbody>\n",
       "</table>\n"
      ],
      "text/plain": [
       "<pandas.io.formats.style.Styler at 0x2f8e5a8c6a0>"
      ]
     },
     "metadata": {},
     "output_type": "display_data"
    }
   ],
   "source": [
    "display(dataset.head().style.hide_index())"
   ]
  },
  {
   "cell_type": "code",
   "execution_count": 8,
   "id": "d2994e9f",
   "metadata": {},
   "outputs": [],
   "source": [
    "# Delete unnecessary columns\n",
    "\n",
    "# dataset.drop([\"Symbol\", \"Series\", \"Prev Close\", \"High\", \"Low\", \"Last\", \"VWAP\", \"Volume\", \"Turnover\", \"Trades\", \"Deliverable Volume\", \"%Deliverble\"], \n",
    "# axis = 1, inplace = True)\n",
    "\n",
    "dataset.drop(dataset.columns.difference(['Date', 'Open', 'Close']), 1, inplace=True)"
   ]
  },
  {
   "cell_type": "code",
   "execution_count": 9,
   "id": "a6d11e97",
   "metadata": {},
   "outputs": [
    {
     "data": {
      "text/html": [
       "<style type=\"text/css\">\n",
       "</style>\n",
       "<table id=\"T_59057_\">\n",
       "  <thead>\n",
       "    <tr>\n",
       "      <th class=\"col_heading level0 col0\" >Date</th>\n",
       "      <th class=\"col_heading level0 col1\" >Open</th>\n",
       "      <th class=\"col_heading level0 col2\" >Close</th>\n",
       "    </tr>\n",
       "  </thead>\n",
       "  <tbody>\n",
       "    <tr>\n",
       "      <td id=\"T_59057_row0_col0\" class=\"data row0 col0\" >2000-01-03</td>\n",
       "      <td id=\"T_59057_row0_col1\" class=\"data row0 col1\" >74.350000</td>\n",
       "      <td id=\"T_59057_row0_col2\" class=\"data row0 col2\" >74.750000</td>\n",
       "    </tr>\n",
       "    <tr>\n",
       "      <td id=\"T_59057_row1_col0\" class=\"data row1 col0\" >2000-01-04</td>\n",
       "      <td id=\"T_59057_row1_col1\" class=\"data row1 col1\" >73.050000</td>\n",
       "      <td id=\"T_59057_row1_col2\" class=\"data row1 col2\" >73.050000</td>\n",
       "    </tr>\n",
       "    <tr>\n",
       "      <td id=\"T_59057_row2_col0\" class=\"data row2 col0\" >2000-01-05</td>\n",
       "      <td id=\"T_59057_row2_col1\" class=\"data row2 col1\" >70.000000</td>\n",
       "      <td id=\"T_59057_row2_col2\" class=\"data row2 col2\" >69.500000</td>\n",
       "    </tr>\n",
       "    <tr>\n",
       "      <td id=\"T_59057_row3_col0\" class=\"data row3 col0\" >2000-01-06</td>\n",
       "      <td id=\"T_59057_row3_col1\" class=\"data row3 col1\" >71.000000</td>\n",
       "      <td id=\"T_59057_row3_col2\" class=\"data row3 col2\" >70.050000</td>\n",
       "    </tr>\n",
       "    <tr>\n",
       "      <td id=\"T_59057_row4_col0\" class=\"data row4 col0\" >2000-01-07</td>\n",
       "      <td id=\"T_59057_row4_col1\" class=\"data row4 col1\" >69.000000</td>\n",
       "      <td id=\"T_59057_row4_col2\" class=\"data row4 col2\" >67.400000</td>\n",
       "    </tr>\n",
       "  </tbody>\n",
       "</table>\n"
      ],
      "text/plain": [
       "<pandas.io.formats.style.Styler at 0x2f8e5a652e0>"
      ]
     },
     "metadata": {},
     "output_type": "display_data"
    }
   ],
   "source": [
    "display(dataset.head().style.hide_index())"
   ]
  },
  {
   "cell_type": "markdown",
   "id": "23844c7a",
   "metadata": {},
   "source": [
    "## Data Visualization"
   ]
  },
  {
   "cell_type": "code",
   "execution_count": 10,
   "id": "5840c5df",
   "metadata": {},
   "outputs": [
    {
     "data": {
      "image/png": "[encoded data removed]",
      "text/plain": [
       "<Figure size 1440x720 with 1 Axes>"
      ]
     },
     "metadata": {},
     "output_type": "display_data"
    }
   ],
   "source": [
    "fig, ax = plt.subplots(figsize=(20, 10))\n",
    "plot1 = sns.scatterplot(data=dataset.head(100), x=\"Open\", y=\"Close\", ax=ax)\n",
    "plot1.set(title='Open v/s Close')\n",
    "plt.show()"
   ]
  },
  {
   "cell_type": "code",
   "execution_count": 11,
   "id": "907944c6",
   "metadata": {},
   "outputs": [
    {
     "data": {
      "image/png": "[encoded data removed]",
      "text/plain": [
       "<Figure size 1440x432 with 2 Axes>"
      ]
     },
     "metadata": {},
     "output_type": "display_data"
    }
   ],
   "source": [
    "dataset.hist(bins=50, figsize=(20, 6))\n",
    "plt.show()"
   ]
  },
  {
   "cell_type": "markdown",
   "id": "0941aaf6",
   "metadata": {},
   "source": [
    "## Import Models"
   ]
  },
  {
   "cell_type": "code",
   "execution_count": 12,
   "id": "ce8886d2",
   "metadata": {},
   "outputs": [],
   "source": [
    "from sklearn.linear_model import LinearRegression\n",
    "from sklearn.svm import SVR\n",
    "from sklearn.tree import DecisionTreeRegressor\n",
    "from sklearn.ensemble import RandomForestRegressor"
   ]
  },
  {
   "cell_type": "markdown",
   "id": "1c7e02b7",
   "metadata": {},
   "source": [
    "## Build, predict and evaluate models"
   ]
  },
  {
   "cell_type": "markdown",
   "id": "a1660926",
   "metadata": {},
   "source": [
    "### Simple Linear Regression"
   ]
  },
  {
   "cell_type": "code",
   "execution_count": 13,
   "id": "c220632c",
   "metadata": {},
   "outputs": [],
   "source": [
    "X = dataset['Open'].values\n",
    "y = dataset['Close'].values"
   ]
  },
  {
   "cell_type": "code",
   "execution_count": 14,
   "id": "91b1038e",
   "metadata": {},
   "outputs": [],
   "source": [
    "X_train, X_test, y_train, y_test = train_test_split(X, y, train_size=0.7, test_size=0.3)"
   ]
  },
  {
   "cell_type": "code",
   "execution_count": 15,
   "id": "0258a0fa",
   "metadata": {},
   "outputs": [],
   "source": [
    "model1 = LinearRegression()\n",
    "build1 = model1.fit(X_train.reshape(-1, 1), y_train)\n",
    "predict1 = model1.predict(X_test.reshape(-1, 1))"
   ]
  },
  {
   "cell_type": "code",
   "execution_count": 16,
   "id": "585349d8",
   "metadata": {},
   "outputs": [
    {
     "name": "stdout",
     "output_type": "stream",
     "text": [
      "Co-efficient:  [0.99877484]\n",
      "\n",
      "Intercept:  0.2261374288418665\n"
     ]
    }
   ],
   "source": [
    "print(\"Co-efficient: \", model1.coef_)\n",
    "print(\"\\nIntercept: \", model1.intercept_)"
   ]
  },
  {
   "cell_type": "code",
   "execution_count": 17,
   "id": "a66fbb3f",
   "metadata": {
    "scrolled": false
   },
   "outputs": [],
   "source": [
    "df1 = pd.DataFrame(list(zip(y_test, predict1)), columns=[\"Actual Values\", \"Predicted Values\"])"
   ]
  },
  {
   "cell_type": "code",
   "execution_count": 18,
   "id": "388d0621",
   "metadata": {},
   "outputs": [
    {
     "data": {
      "text/html": [
       "<style type=\"text/css\">\n",
       "</style>\n",
       "<table id=\"T_4f86d_\">\n",
       "  <thead>\n",
       "    <tr>\n",
       "      <th class=\"col_heading level0 col0\" >Actual Values</th>\n",
       "      <th class=\"col_heading level0 col1\" >Predicted Values</th>\n",
       "    </tr>\n",
       "  </thead>\n",
       "  <tbody>\n",
       "    <tr>\n",
       "      <td id=\"T_4f86d_row0_col0\" class=\"data row0 col0\" >215.800000</td>\n",
       "      <td id=\"T_4f86d_row0_col1\" class=\"data row0 col1\" >215.761749</td>\n",
       "    </tr>\n",
       "    <tr>\n",
       "      <td id=\"T_4f86d_row1_col0\" class=\"data row1 col0\" >346.600000</td>\n",
       "      <td id=\"T_4f86d_row1_col1\" class=\"data row1 col1\" >351.794882</td>\n",
       "    </tr>\n",
       "    <tr>\n",
       "      <td id=\"T_4f86d_row2_col0\" class=\"data row2 col0\" >227.750000</td>\n",
       "      <td id=\"T_4f86d_row2_col1\" class=\"data row2 col1\" >229.944351</td>\n",
       "    </tr>\n",
       "    <tr>\n",
       "      <td id=\"T_4f86d_row3_col0\" class=\"data row3 col0\" >1051.550000</td>\n",
       "      <td id=\"T_4f86d_row3_col1\" class=\"data row3 col1\" >1072.910319</td>\n",
       "    </tr>\n",
       "    <tr>\n",
       "      <td id=\"T_4f86d_row4_col0\" class=\"data row4 col0\" >301.150000</td>\n",
       "      <td id=\"T_4f86d_row4_col1\" class=\"data row4 col1\" >291.768514</td>\n",
       "    </tr>\n",
       "  </tbody>\n",
       "</table>\n"
      ],
      "text/plain": [
       "<pandas.io.formats.style.Styler at 0x2f8e6e2f400>"
      ]
     },
     "execution_count": 18,
     "metadata": {},
     "output_type": "execute_result"
    }
   ],
   "source": [
    "df1.head().style.hide_index()"
   ]
  },
  {
   "cell_type": "code",
   "execution_count": 19,
   "id": "74cd8545",
   "metadata": {},
   "outputs": [
    {
     "data": {
      "image/png": "[encoded data removed]",
      "text/plain": [
       "<Figure size 1440x720 with 1 Axes>"
      ]
     },
     "metadata": {},
     "output_type": "display_data"
    }
   ],
   "source": [
    "df1.head(50).plot(kind=\"bar\", figsize=(20, 10), title='Simple Linear Regression')\n",
    "plt.show()"
   ]
  },
  {
   "cell_type": "code",
   "execution_count": 20,
   "id": "43087e93",
   "metadata": {},
   "outputs": [
    {
     "name": "stdout",
     "output_type": "stream",
     "text": [
      "Accuracy of Simple Linear Regression: 0.9982745129719666\n"
     ]
    }
   ],
   "source": [
    "accuracy1 = r2_score(y_test, predict1)\n",
    "print(\"Accuracy of Simple Linear Regression:\", accuracy1)"
   ]
  },
  {
   "cell_type": "markdown",
   "id": "59ae5b97",
   "metadata": {},
   "source": [
    "### Support Vector Regression"
   ]
  },
  {
   "cell_type": "code",
   "execution_count": 21,
   "id": "04c4122d",
   "metadata": {},
   "outputs": [],
   "source": [
    "model2 = SVR(kernel=\"rbf\", gamma = 0.01, C=100)\n",
    "build2 = model2.fit(X_train.reshape(-1, 1), y_train)\n",
    "predict2 = model2.predict(X_test.reshape(-1, 1))"
   ]
  },
  {
   "cell_type": "code",
   "execution_count": 22,
   "id": "ec6ea586",
   "metadata": {
    "scrolled": false
   },
   "outputs": [],
   "source": [
    "df2 = pd.DataFrame(list(zip(y_test, predict2)), columns=[\"Actual Values\", \"Predicted Values\"])"
   ]
  },
  {
   "cell_type": "code",
   "execution_count": 23,
   "id": "e5ae22d0",
   "metadata": {},
   "outputs": [
    {
     "data": {
      "text/html": [
       "<style type=\"text/css\">\n",
       "</style>\n",
       "<table id=\"T_1fa02_\">\n",
       "  <thead>\n",
       "    <tr>\n",
       "      <th class=\"col_heading level0 col0\" >Actual Values</th>\n",
       "      <th class=\"col_heading level0 col1\" >Predicted Values</th>\n",
       "    </tr>\n",
       "  </thead>\n",
       "  <tbody>\n",
       "    <tr>\n",
       "      <td id=\"T_1fa02_row0_col0\" class=\"data row0 col0\" >215.800000</td>\n",
       "      <td id=\"T_1fa02_row0_col1\" class=\"data row0 col1\" >215.455240</td>\n",
       "    </tr>\n",
       "    <tr>\n",
       "      <td id=\"T_1fa02_row1_col0\" class=\"data row1 col0\" >346.600000</td>\n",
       "      <td id=\"T_1fa02_row1_col1\" class=\"data row1 col1\" >352.721438</td>\n",
       "    </tr>\n",
       "    <tr>\n",
       "      <td id=\"T_1fa02_row2_col0\" class=\"data row2 col0\" >227.750000</td>\n",
       "      <td id=\"T_1fa02_row2_col1\" class=\"data row2 col1\" >231.609275</td>\n",
       "    </tr>\n",
       "    <tr>\n",
       "      <td id=\"T_1fa02_row3_col0\" class=\"data row3 col0\" >1051.550000</td>\n",
       "      <td id=\"T_1fa02_row3_col1\" class=\"data row3 col1\" >1075.539455</td>\n",
       "    </tr>\n",
       "    <tr>\n",
       "      <td id=\"T_1fa02_row4_col0\" class=\"data row4 col0\" >301.150000</td>\n",
       "      <td id=\"T_1fa02_row4_col1\" class=\"data row4 col1\" >291.178679</td>\n",
       "    </tr>\n",
       "  </tbody>\n",
       "</table>\n"
      ],
      "text/plain": [
       "<pandas.io.formats.style.Styler at 0x2f8e6e2f1f0>"
      ]
     },
     "execution_count": 23,
     "metadata": {},
     "output_type": "execute_result"
    }
   ],
   "source": [
    "df2.head().style.hide_index()"
   ]
  },
  {
   "cell_type": "code",
   "execution_count": 24,
   "id": "acaaf2e2",
   "metadata": {},
   "outputs": [
    {
     "data": {
      "image/png": "[encoded data removed]",
      "text/plain": [
       "<Figure size 1440x720 with 1 Axes>"
      ]
     },
     "metadata": {},
     "output_type": "display_data"
    }
   ],
   "source": [
    "df2.head(50).plot(kind=\"bar\", figsize=(20, 10), title='Support Vector Regression')\n",
    "plt.show()"
   ]
  },
  {
   "cell_type": "code",
   "execution_count": 25,
   "id": "6b150b8d",
   "metadata": {},
   "outputs": [
    {
     "name": "stdout",
     "output_type": "stream",
     "text": [
      "Accuracy of Support Vector Regression: 0.9782539108629036\n"
     ]
    }
   ],
   "source": [
    "accuracy2 = r2_score(y_test, predict2)\n",
    "print(\"Accuracy of Support Vector Regression:\", accuracy2)"
   ]
  },
  {
   "cell_type": "markdown",
   "id": "5083869c",
   "metadata": {},
   "source": [
    "### Decision Tree Regression"
   ]
  },
  {
   "cell_type": "code",
   "execution_count": 26,
   "id": "cc34c0b6",
   "metadata": {},
   "outputs": [],
   "source": [
    "model3 = DecisionTreeRegressor()\n",
    "build3 = model3.fit(X_train.reshape(-1, 1), y_train)\n",
    "predict3 = model3.predict(X_test.reshape(-1, 1))"
   ]
  },
  {
   "cell_type": "code",
   "execution_count": 27,
   "id": "eb8eabd9",
   "metadata": {
    "scrolled": false
   },
   "outputs": [],
   "source": [
    "df3 = pd.DataFrame(list(zip(y_test, predict3)), columns=[\"Actual Values\", \"Predicted Values\"])"
   ]
  },
  {
   "cell_type": "code",
   "execution_count": 28,
   "id": "5f44a7b6",
   "metadata": {},
   "outputs": [
    {
     "data": {
      "text/html": [
       "<style type=\"text/css\">\n",
       "</style>\n",
       "<table id=\"T_a19c3_\">\n",
       "  <thead>\n",
       "    <tr>\n",
       "      <th class=\"col_heading level0 col0\" >Actual Values</th>\n",
       "      <th class=\"col_heading level0 col1\" >Predicted Values</th>\n",
       "    </tr>\n",
       "  </thead>\n",
       "  <tbody>\n",
       "    <tr>\n",
       "      <td id=\"T_a19c3_row0_col0\" class=\"data row0 col0\" >215.800000</td>\n",
       "      <td id=\"T_a19c3_row0_col1\" class=\"data row0 col1\" >211.000000</td>\n",
       "    </tr>\n",
       "    <tr>\n",
       "      <td id=\"T_a19c3_row1_col0\" class=\"data row1 col0\" >346.600000</td>\n",
       "      <td id=\"T_a19c3_row1_col1\" class=\"data row1 col1\" >350.250000</td>\n",
       "    </tr>\n",
       "    <tr>\n",
       "      <td id=\"T_a19c3_row2_col0\" class=\"data row2 col0\" >227.750000</td>\n",
       "      <td id=\"T_a19c3_row2_col1\" class=\"data row2 col1\" >223.500000</td>\n",
       "    </tr>\n",
       "    <tr>\n",
       "      <td id=\"T_a19c3_row3_col0\" class=\"data row3 col0\" >1051.550000</td>\n",
       "      <td id=\"T_a19c3_row3_col1\" class=\"data row3 col1\" >1053.450000</td>\n",
       "    </tr>\n",
       "    <tr>\n",
       "      <td id=\"T_a19c3_row4_col0\" class=\"data row4 col0\" >301.150000</td>\n",
       "      <td id=\"T_a19c3_row4_col1\" class=\"data row4 col1\" >294.650000</td>\n",
       "    </tr>\n",
       "  </tbody>\n",
       "</table>\n"
      ],
      "text/plain": [
       "<pandas.io.formats.style.Styler at 0x2f8e059f430>"
      ]
     },
     "execution_count": 28,
     "metadata": {},
     "output_type": "execute_result"
    }
   ],
   "source": [
    "df3.head().style.hide_index()"
   ]
  },
  {
   "cell_type": "code",
   "execution_count": 29,
   "id": "4829fcd3",
   "metadata": {},
   "outputs": [
    {
     "data": {
      "image/png": "[encoded data removed]",
      "text/plain": [
       "<Figure size 1440x720 with 1 Axes>"
      ]
     },
     "metadata": {},
     "output_type": "display_data"
    }
   ],
   "source": [
    "df3.head(50).plot(kind=\"bar\", figsize=(20, 10), title='Decision Tree Regression')\n",
    "plt.show()"
   ]
  },
  {
   "cell_type": "code",
   "execution_count": 30,
   "id": "346dd7d5",
   "metadata": {},
   "outputs": [
    {
     "name": "stdout",
     "output_type": "stream",
     "text": [
      "Accuracy of Decision Tree Regression: 0.9972340463693731\n"
     ]
    }
   ],
   "source": [
    "accuracy3 = r2_score(y_test, predict3)\n",
    "print(\"Accuracy of Decision Tree Regression:\", accuracy3)"
   ]
  },
  {
   "cell_type": "markdown",
   "id": "38a42b02",
   "metadata": {},
   "source": [
    "### Random Forest Regression"
   ]
  },
  {
   "cell_type": "code",
   "execution_count": 31,
   "id": "fb2becc4",
   "metadata": {},
   "outputs": [],
   "source": [
    "model4 = RandomForestRegressor(n_estimators=100)\n",
    "build4 = model4.fit(X_train.reshape(-1, 1), y_train)\n",
    "predict4 = model4.predict(X_test.reshape(-1, 1))"
   ]
  },
  {
   "cell_type": "code",
   "execution_count": 32,
   "id": "78781b34",
   "metadata": {
    "scrolled": false
   },
   "outputs": [],
   "source": [
    "df4 = pd.DataFrame(list(zip(y_test, predict4)), columns=[\"Actual Values\", \"Predicted Values\"])"
   ]
  },
  {
   "cell_type": "code",
   "execution_count": 33,
   "id": "9fc97ee7",
   "metadata": {},
   "outputs": [
    {
     "data": {
      "text/html": [
       "<style type=\"text/css\">\n",
       "</style>\n",
       "<table id=\"T_e224b_\">\n",
       "  <thead>\n",
       "    <tr>\n",
       "      <th class=\"col_heading level0 col0\" >Actual Values</th>\n",
       "      <th class=\"col_heading level0 col1\" >Predicted Values</th>\n",
       "    </tr>\n",
       "  </thead>\n",
       "  <tbody>\n",
       "    <tr>\n",
       "      <td id=\"T_e224b_row0_col0\" class=\"data row0 col0\" >215.800000</td>\n",
       "      <td id=\"T_e224b_row0_col1\" class=\"data row0 col1\" >211.256888</td>\n",
       "    </tr>\n",
       "    <tr>\n",
       "      <td id=\"T_e224b_row1_col0\" class=\"data row1 col0\" >346.600000</td>\n",
       "      <td id=\"T_e224b_row1_col1\" class=\"data row1 col1\" >351.039500</td>\n",
       "    </tr>\n",
       "    <tr>\n",
       "      <td id=\"T_e224b_row2_col0\" class=\"data row2 col0\" >227.750000</td>\n",
       "      <td id=\"T_e224b_row2_col1\" class=\"data row2 col1\" >226.917500</td>\n",
       "    </tr>\n",
       "    <tr>\n",
       "      <td id=\"T_e224b_row3_col0\" class=\"data row3 col0\" >1051.550000</td>\n",
       "      <td id=\"T_e224b_row3_col1\" class=\"data row3 col1\" >1060.292167</td>\n",
       "    </tr>\n",
       "    <tr>\n",
       "      <td id=\"T_e224b_row4_col0\" class=\"data row4 col0\" >301.150000</td>\n",
       "      <td id=\"T_e224b_row4_col1\" class=\"data row4 col1\" >293.659962</td>\n",
       "    </tr>\n",
       "  </tbody>\n",
       "</table>\n"
      ],
      "text/plain": [
       "<pandas.io.formats.style.Styler at 0x2f8e6fce190>"
      ]
     },
     "execution_count": 33,
     "metadata": {},
     "output_type": "execute_result"
    }
   ],
   "source": [
    "df4.head().style.hide_index()"
   ]
  },
  {
   "cell_type": "code",
   "execution_count": 34,
   "id": "fa274b6a",
   "metadata": {},
   "outputs": [
    {
     "data": {
      "image/png": "[encoded data removed]",
      "text/plain": [
       "<Figure size 1440x720 with 1 Axes>"
      ]
     },
     "metadata": {},
     "output_type": "display_data"
    }
   ],
   "source": [
    "df4.head(50).plot(kind=\"bar\", figsize=(20, 10), title='Random Forest Regression')\n",
    "plt.show()"
   ]
  },
  {
   "cell_type": "code",
   "execution_count": 35,
   "id": "46a96f64",
   "metadata": {},
   "outputs": [
    {
     "name": "stdout",
     "output_type": "stream",
     "text": [
      "Accuracy of Random Forest Regression: 0.9977574389927836\n"
     ]
    }
   ],
   "source": [
    "accuracy4 = r2_score(y_test, predict4)\n",
    "print(\"Accuracy of Random Forest Regression:\", accuracy4)"
   ]
  },
  {
   "cell_type": "markdown",
   "id": "9201a4f6",
   "metadata": {},
   "source": [
    "## Visualize the results"
   ]
  },
  {
   "cell_type": "code",
   "execution_count": 36,
   "id": "8a1ad941",
   "metadata": {},
   "outputs": [
    {
     "data": {
      "text/html": [
       "<style type=\"text/css\">\n",
       "</style>\n",
       "<table id=\"T_f3d6a_\">\n",
       "  <thead>\n",
       "    <tr>\n",
       "      <th class=\"col_heading level0 col0\" >Model</th>\n",
       "      <th class=\"col_heading level0 col1\" >Accuracy</th>\n",
       "    </tr>\n",
       "  </thead>\n",
       "  <tbody>\n",
       "    <tr>\n",
       "      <td id=\"T_f3d6a_row0_col0\" class=\"data row0 col0\" >Simple Linear Regression</td>\n",
       "      <td id=\"T_f3d6a_row0_col1\" class=\"data row0 col1\" >0.998275</td>\n",
       "    </tr>\n",
       "    <tr>\n",
       "      <td id=\"T_f3d6a_row1_col0\" class=\"data row1 col0\" >Support Vector Regression</td>\n",
       "      <td id=\"T_f3d6a_row1_col1\" class=\"data row1 col1\" >0.978254</td>\n",
       "    </tr>\n",
       "    <tr>\n",
       "      <td id=\"T_f3d6a_row2_col0\" class=\"data row2 col0\" >Decision Tree Regression</td>\n",
       "      <td id=\"T_f3d6a_row2_col1\" class=\"data row2 col1\" >0.997234</td>\n",
       "    </tr>\n",
       "    <tr>\n",
       "      <td id=\"T_f3d6a_row3_col0\" class=\"data row3 col0\" >Random Forest Regression</td>\n",
       "      <td id=\"T_f3d6a_row3_col1\" class=\"data row3 col1\" >0.997757</td>\n",
       "    </tr>\n",
       "  </tbody>\n",
       "</table>\n"
      ],
      "text/plain": [
       "<pandas.io.formats.style.Styler at 0x2f8e7401e50>"
      ]
     },
     "metadata": {},
     "output_type": "display_data"
    }
   ],
   "source": [
    "dict1 = {\n",
    "    \"Model\": [\"Simple Linear Regression\", \"Support Vector Regression\", \"Decision Tree Regression\", \"Random Forest Regression\"],\n",
    "    \"Accuracy\": np.array([accuracy1, accuracy2, accuracy3, accuracy4])\n",
    "}\n",
    "df = pd.DataFrame(dict1)\n",
    "display(df.style.hide_index())"
   ]
  },
  {
   "cell_type": "code",
   "execution_count": 37,
   "id": "bfed968b",
   "metadata": {},
   "outputs": [
    {
     "data": {
      "image/png": "[encoded data removed]",
      "text/plain": [
       "<Figure size 1440x720 with 1 Axes>"
      ]
     },
     "metadata": {},
     "output_type": "display_data"
    }
   ],
   "source": [
    "models = ['SLR', 'SVR', 'DTR', 'RFR']\n",
    "acc = [accuracy1, accuracy2, accuracy3, accuracy4]\n",
    "plt.figure(figsize=(20, 10))\n",
    "plt.title('Comparision of Accuracies of models')\n",
    "plt.yticks(np.linspace(0,1,21))\n",
    "plt.ylabel(\"Accuracy\")\n",
    "plt.xlabel(\"Models\")\n",
    "values = df.Accuracy\n",
    "plot = sns.barplot(x=models, y=acc, data=values, errwidth=0)\n",
    "plot.bar_label(plot.containers[0])\n",
    "plt.show()"
   ]
  },
  {
   "cell_type": "markdown",
   "id": "330a5cb9",
   "metadata": {},
   "source": [
    "## Find out the closing price of the company of that day"
   ]
  },
  {
   "cell_type": "code",
   "execution_count": 44,
   "id": "bcbbb7cc",
   "metadata": {},
   "outputs": [
    {
     "data": {
      "text/html": [
       "<style type=\"text/css\">\n",
       "</style>\n",
       "<table id=\"T_94166_\">\n",
       "  <thead>\n",
       "    <tr>\n",
       "      <th class=\"col_heading level0 col0\" >Date</th>\n",
       "      <th class=\"col_heading level0 col1\" >Open</th>\n",
       "    </tr>\n",
       "  </thead>\n",
       "  <tbody>\n",
       "    <tr>\n",
       "      <td id=\"T_94166_row0_col0\" class=\"data row0 col0\" >11-May-22</td>\n",
       "      <td id=\"T_94166_row0_col1\" class=\"data row0 col1\" >718.000000</td>\n",
       "    </tr>\n",
       "  </tbody>\n",
       "</table>\n"
      ],
      "text/plain": [
       "<pandas.io.formats.style.Styler at 0x2f8e6e6df40>"
      ]
     },
     "metadata": {},
     "output_type": "display_data"
    }
   ],
   "source": [
    "new_dict = {\n",
    "    'Date': np.array(['11-May-22']),\n",
    "    'Open':np.array([718.00])}\n",
    "\n",
    "future_stock_value = pd.DataFrame(new_dict)\n",
    "display(future_stock_value.style.hide_index())"
   ]
  },
  {
   "cell_type": "markdown",
   "id": "b312b1b5",
   "metadata": {},
   "source": [
    "## Predict using the highest accuracy model"
   ]
  },
  {
   "cell_type": "code",
   "execution_count": 45,
   "id": "cb49dea7",
   "metadata": {},
   "outputs": [],
   "source": [
    "models = np.array(df['Model'])\n",
    "accuracy = np.array(df['Accuracy'])"
   ]
  },
  {
   "cell_type": "code",
   "execution_count": 46,
   "id": "c481e501",
   "metadata": {},
   "outputs": [],
   "source": [
    "highest_accuracy=0.0\n",
    "best_model=\"\""
   ]
  },
  {
   "cell_type": "code",
   "execution_count": 47,
   "id": "65e53f6b",
   "metadata": {},
   "outputs": [],
   "source": [
    "for i in range(len(accuracy)) :\n",
    "    if accuracy[i] >= highest_accuracy :\n",
    "        highest_accuracy=accuracy[i]\n",
    "        best_model=models[i]"
   ]
  },
  {
   "cell_type": "code",
   "execution_count": 48,
   "id": "95b4e0b5",
   "metadata": {},
   "outputs": [],
   "source": [
    "slr, svr, dtr, rfr = [], [], [], []\n",
    "\n",
    "if best_model == models[0] :\n",
    "    future_stock_value['Predicted'] = model1.predict(future_stock_value.Open.values.reshape(-1, 1))\n",
    "elif best_model == models[1] :\n",
    "    future_stock_value['Predicted'] = model2.predict(future_stock_value.Open.values.reshape(-1, 1))\n",
    "elif best_model == models[2] :\n",
    "    future_stock_value['Predicted'] = model3.predict(future_stock_value.Open.values.reshape(-1, 1))\n",
    "elif best_model == models[3] :\n",
    "    future_stock_value['Predicted'] = model4.predict(future_stock_value.Open.values.reshape(-1, 1))"
   ]
  },
  {
   "cell_type": "code",
   "execution_count": 49,
   "id": "24826bd7",
   "metadata": {},
   "outputs": [
    {
     "data": {
      "text/html": [
       "<style type=\"text/css\">\n",
       "</style>\n",
       "<table id=\"T_09a90_\">\n",
       "  <thead>\n",
       "    <tr>\n",
       "      <th class=\"col_heading level0 col0\" >Date</th>\n",
       "      <th class=\"col_heading level0 col1\" >Open</th>\n",
       "      <th class=\"col_heading level0 col2\" >Predicted</th>\n",
       "    </tr>\n",
       "  </thead>\n",
       "  <tbody>\n",
       "    <tr>\n",
       "      <td id=\"T_09a90_row0_col0\" class=\"data row0 col0\" >11-May-22</td>\n",
       "      <td id=\"T_09a90_row0_col1\" class=\"data row0 col1\" >718.000000</td>\n",
       "      <td id=\"T_09a90_row0_col2\" class=\"data row0 col2\" >717.346475</td>\n",
       "    </tr>\n",
       "  </tbody>\n",
       "</table>\n"
      ],
      "text/plain": [
       "<pandas.io.formats.style.Styler at 0x2f8e6ff9e80>"
      ]
     },
     "metadata": {},
     "output_type": "display_data"
    }
   ],
   "source": [
    "display(future_stock_value.style.hide_index())"
   ]
  },
  {
   "cell_type": "code",
   "execution_count": null,
   "id": "d40c924e",
   "metadata": {},
   "outputs": [],
   "source": []
  }
 ],
 "metadata": {
  "kernelspec": {
   "display_name": "Python 3 (ipykernel)",
   "language": "python",
   "name": "python3"
  },
  "language_info": {
   "codemirror_mode": {
    "name": "ipython",
    "version": 3
   },
   "file_extension": ".py",
   "mimetype": "text/x-python",
   "name": "python",
   "nbconvert_exporter": "python",
   "pygments_lexer": "ipython3",
   "version": "3.9.7"
  }
 },
 "nbformat": 4,
 "nbformat_minor": 5
}
